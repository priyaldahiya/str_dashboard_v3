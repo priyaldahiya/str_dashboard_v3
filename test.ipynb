{
 "cells": [
  {
   "cell_type": "code",
   "execution_count": 1,
   "metadata": {},
   "outputs": [],
   "source": [
    "import pandas as pd\n",
    "import os\n",
    "import datetime\n",
    "import plotly.express as px"
   ]
  },
  {
   "cell_type": "code",
   "execution_count": 2,
   "metadata": {},
   "outputs": [],
   "source": [
    "airbnb_path = 'airbnb_.csv'\n",
    "raw_df = pd.read_csv(airbnb_path)"
   ]
  },
  {
   "cell_type": "code",
   "execution_count": 3,
   "metadata": {},
   "outputs": [
    {
     "data": {
      "text/html": [
       "<div>\n",
       "<style scoped>\n",
       "    .dataframe tbody tr th:only-of-type {\n",
       "        vertical-align: middle;\n",
       "    }\n",
       "\n",
       "    .dataframe tbody tr th {\n",
       "        vertical-align: top;\n",
       "    }\n",
       "\n",
       "    .dataframe thead th {\n",
       "        text-align: right;\n",
       "    }\n",
       "</style>\n",
       "<table border=\"1\" class=\"dataframe\">\n",
       "  <thead>\n",
       "    <tr style=\"text-align: right;\">\n",
       "      <th></th>\n",
       "      <th>Date</th>\n",
       "      <th>Arriving by date</th>\n",
       "      <th>Type</th>\n",
       "      <th>Booking date</th>\n",
       "      <th>Start date</th>\n",
       "      <th>End date</th>\n",
       "      <th>Nights</th>\n",
       "      <th>Listing</th>\n",
       "      <th>Currency</th>\n",
       "      <th>Amount</th>\n",
       "      <th>Paid out</th>\n",
       "      <th>Host service fee</th>\n",
       "      <th>Fast pay fee</th>\n",
       "      <th>Cleaning fee</th>\n",
       "      <th>Pet fee</th>\n",
       "      <th>Gross earnings</th>\n",
       "      <th>Occupancy taxes</th>\n",
       "      <th>Earnings year</th>\n",
       "    </tr>\n",
       "  </thead>\n",
       "  <tbody>\n",
       "    <tr>\n",
       "      <th>0</th>\n",
       "      <td>02/24/2024</td>\n",
       "      <td>02/24/2024</td>\n",
       "      <td>Payout</td>\n",
       "      <td>NaN</td>\n",
       "      <td>NaN</td>\n",
       "      <td>NaN</td>\n",
       "      <td>NaN</td>\n",
       "      <td>NaN</td>\n",
       "      <td>USD</td>\n",
       "      <td>NaN</td>\n",
       "      <td>950.6</td>\n",
       "      <td>NaN</td>\n",
       "      <td>NaN</td>\n",
       "      <td>NaN</td>\n",
       "      <td>NaN</td>\n",
       "      <td>NaN</td>\n",
       "      <td>NaN</td>\n",
       "      <td>NaN</td>\n",
       "    </tr>\n",
       "    <tr>\n",
       "      <th>1</th>\n",
       "      <td>02/24/2024</td>\n",
       "      <td>NaN</td>\n",
       "      <td>Reservation</td>\n",
       "      <td>02/21/2024</td>\n",
       "      <td>02/23/2024</td>\n",
       "      <td>02/25/2024</td>\n",
       "      <td>2.0</td>\n",
       "      <td>Treetops by ARRAY | 3 King | 7 Acre | Private ...</td>\n",
       "      <td>USD</td>\n",
       "      <td>435.53</td>\n",
       "      <td>NaN</td>\n",
       "      <td>13.47</td>\n",
       "      <td>NaN</td>\n",
       "      <td>130.0</td>\n",
       "      <td>0.0</td>\n",
       "      <td>449.0</td>\n",
       "      <td>67.89</td>\n",
       "      <td>2024.0</td>\n",
       "    </tr>\n",
       "    <tr>\n",
       "      <th>2</th>\n",
       "      <td>02/24/2024</td>\n",
       "      <td>NaN</td>\n",
       "      <td>Reservation</td>\n",
       "      <td>02/18/2024</td>\n",
       "      <td>02/23/2024</td>\n",
       "      <td>02/25/2024</td>\n",
       "      <td>2.0</td>\n",
       "      <td>NEW Idlewood, Close to NCSU, PNC Arena, Fenced</td>\n",
       "      <td>USD</td>\n",
       "      <td>515.07</td>\n",
       "      <td>NaN</td>\n",
       "      <td>15.93</td>\n",
       "      <td>NaN</td>\n",
       "      <td>130.0</td>\n",
       "      <td>0.0</td>\n",
       "      <td>531.0</td>\n",
       "      <td>80.29</td>\n",
       "      <td>2024.0</td>\n",
       "    </tr>\n",
       "  </tbody>\n",
       "</table>\n",
       "</div>"
      ],
      "text/plain": [
       "         Date Arriving by date         Type Booking date  Start date  \\\n",
       "0  02/24/2024       02/24/2024       Payout          NaN         NaN   \n",
       "1  02/24/2024              NaN  Reservation   02/21/2024  02/23/2024   \n",
       "2  02/24/2024              NaN  Reservation   02/18/2024  02/23/2024   \n",
       "\n",
       "     End date  Nights                                            Listing  \\\n",
       "0         NaN     NaN                                                NaN   \n",
       "1  02/25/2024     2.0  Treetops by ARRAY | 3 King | 7 Acre | Private ...   \n",
       "2  02/25/2024     2.0     NEW Idlewood, Close to NCSU, PNC Arena, Fenced   \n",
       "\n",
       "  Currency  Amount  Paid out  Host service fee  Fast pay fee  Cleaning fee  \\\n",
       "0      USD     NaN     950.6               NaN           NaN           NaN   \n",
       "1      USD  435.53       NaN             13.47           NaN         130.0   \n",
       "2      USD  515.07       NaN             15.93           NaN         130.0   \n",
       "\n",
       "   Pet fee  Gross earnings  Occupancy taxes  Earnings year  \n",
       "0      NaN             NaN              NaN            NaN  \n",
       "1      0.0           449.0            67.89         2024.0  \n",
       "2      0.0           531.0            80.29         2024.0  "
      ]
     },
     "execution_count": 3,
     "metadata": {},
     "output_type": "execute_result"
    }
   ],
   "source": [
    "raw_df.head(3)"
   ]
  },
  {
   "cell_type": "code",
   "execution_count": 4,
   "metadata": {},
   "outputs": [],
   "source": [
    "def clean_airbnb_data(df):\n",
    "    df = df.dropna(subset=['Listing'])\n",
    "    df = df.drop(columns = ['Arriving by date', 'Currency', 'Paid out', 'Fast pay fee'])\n",
    "    return df\n",
    "cleaned_df = clean_airbnb_data(raw_df)"
   ]
  },
  {
   "cell_type": "markdown",
   "metadata": {},
   "source": [
    "##### Lead Times"
   ]
  },
  {
   "cell_type": "code",
   "execution_count": 5,
   "metadata": {},
   "outputs": [],
   "source": [
    "def create_lead_times_column(df):\n",
    "    df['Start date'] = pd.to_datetime(df['Start date'])\n",
    "    df['Booking date'] = pd.to_datetime(df['Booking date'])\n",
    "    df['Lead time'] = (df['Booking date'] - df['Start date']).dt.days\n",
    "    df['Lead time'] = df['Lead time'].abs()\n",
    "    return df"
   ]
  },
  {
   "cell_type": "code",
   "execution_count": 6,
   "metadata": {},
   "outputs": [],
   "source": [
    "df = create_lead_times_column(cleaned_df)"
   ]
  },
  {
   "cell_type": "code",
   "execution_count": 7,
   "metadata": {},
   "outputs": [
    {
     "data": {
      "text/html": [
       "<div>\n",
       "<style scoped>\n",
       "    .dataframe tbody tr th:only-of-type {\n",
       "        vertical-align: middle;\n",
       "    }\n",
       "\n",
       "    .dataframe tbody tr th {\n",
       "        vertical-align: top;\n",
       "    }\n",
       "\n",
       "    .dataframe thead th {\n",
       "        text-align: right;\n",
       "    }\n",
       "</style>\n",
       "<table border=\"1\" class=\"dataframe\">\n",
       "  <thead>\n",
       "    <tr style=\"text-align: right;\">\n",
       "      <th></th>\n",
       "      <th>Date</th>\n",
       "      <th>Type</th>\n",
       "      <th>Booking date</th>\n",
       "      <th>Start date</th>\n",
       "      <th>End date</th>\n",
       "      <th>Nights</th>\n",
       "      <th>Listing</th>\n",
       "      <th>Amount</th>\n",
       "      <th>Host service fee</th>\n",
       "      <th>Cleaning fee</th>\n",
       "      <th>Pet fee</th>\n",
       "      <th>Gross earnings</th>\n",
       "      <th>Occupancy taxes</th>\n",
       "      <th>Earnings year</th>\n",
       "      <th>Lead time</th>\n",
       "    </tr>\n",
       "  </thead>\n",
       "  <tbody>\n",
       "    <tr>\n",
       "      <th>1</th>\n",
       "      <td>02/24/2024</td>\n",
       "      <td>Reservation</td>\n",
       "      <td>2024-02-21</td>\n",
       "      <td>2024-02-23</td>\n",
       "      <td>02/25/2024</td>\n",
       "      <td>2.0</td>\n",
       "      <td>Treetops by ARRAY | 3 King | 7 Acre | Private ...</td>\n",
       "      <td>435.53</td>\n",
       "      <td>13.47</td>\n",
       "      <td>130.0</td>\n",
       "      <td>0.0</td>\n",
       "      <td>449.0</td>\n",
       "      <td>67.89</td>\n",
       "      <td>2024.0</td>\n",
       "      <td>2</td>\n",
       "    </tr>\n",
       "    <tr>\n",
       "      <th>2</th>\n",
       "      <td>02/24/2024</td>\n",
       "      <td>Reservation</td>\n",
       "      <td>2024-02-18</td>\n",
       "      <td>2024-02-23</td>\n",
       "      <td>02/25/2024</td>\n",
       "      <td>2.0</td>\n",
       "      <td>NEW Idlewood, Close to NCSU, PNC Arena, Fenced</td>\n",
       "      <td>515.07</td>\n",
       "      <td>15.93</td>\n",
       "      <td>130.0</td>\n",
       "      <td>0.0</td>\n",
       "      <td>531.0</td>\n",
       "      <td>80.29</td>\n",
       "      <td>2024.0</td>\n",
       "      <td>5</td>\n",
       "    </tr>\n",
       "    <tr>\n",
       "      <th>4</th>\n",
       "      <td>02/22/2024</td>\n",
       "      <td>Reservation</td>\n",
       "      <td>2024-02-20</td>\n",
       "      <td>2024-02-21</td>\n",
       "      <td>02/23/2024</td>\n",
       "      <td>2.0</td>\n",
       "      <td>Treetops by ARRAY | 3 King | 7 Acre | Private ...</td>\n",
       "      <td>322.04</td>\n",
       "      <td>9.96</td>\n",
       "      <td>130.0</td>\n",
       "      <td>0.0</td>\n",
       "      <td>332.0</td>\n",
       "      <td>50.20</td>\n",
       "      <td>2024.0</td>\n",
       "      <td>1</td>\n",
       "    </tr>\n",
       "  </tbody>\n",
       "</table>\n",
       "</div>"
      ],
      "text/plain": [
       "         Date         Type Booking date Start date    End date  Nights  \\\n",
       "1  02/24/2024  Reservation   2024-02-21 2024-02-23  02/25/2024     2.0   \n",
       "2  02/24/2024  Reservation   2024-02-18 2024-02-23  02/25/2024     2.0   \n",
       "4  02/22/2024  Reservation   2024-02-20 2024-02-21  02/23/2024     2.0   \n",
       "\n",
       "                                             Listing  Amount  \\\n",
       "1  Treetops by ARRAY | 3 King | 7 Acre | Private ...  435.53   \n",
       "2     NEW Idlewood, Close to NCSU, PNC Arena, Fenced  515.07   \n",
       "4  Treetops by ARRAY | 3 King | 7 Acre | Private ...  322.04   \n",
       "\n",
       "   Host service fee  Cleaning fee  Pet fee  Gross earnings  Occupancy taxes  \\\n",
       "1             13.47         130.0      0.0           449.0            67.89   \n",
       "2             15.93         130.0      0.0           531.0            80.29   \n",
       "4              9.96         130.0      0.0           332.0            50.20   \n",
       "\n",
       "   Earnings year  Lead time  \n",
       "1         2024.0          2  \n",
       "2         2024.0          5  \n",
       "4         2024.0          1  "
      ]
     },
     "execution_count": 7,
     "metadata": {},
     "output_type": "execute_result"
    }
   ],
   "source": [
    "df.head(3)"
   ]
  },
  {
   "cell_type": "markdown",
   "metadata": {},
   "source": [
    "##### Grouping"
   ]
  },
  {
   "cell_type": "code",
   "execution_count": 8,
   "metadata": {},
   "outputs": [],
   "source": [
    "def monthly_kpis(df):\n",
    "    df['Month'] = df['Start date'].dt.strftime('%B')\n",
    "    df['Earnings year'] = df['Earnings year'].astype(int)\n",
    "\n",
    "    result = df.groupby(['Earnings year', 'Month']).agg({\n",
    "        'Nights': 'sum',\n",
    "        'Lead time': 'mean',\n",
    "        'Gross earnings': 'sum',\n",
    "        'Host service fee': 'sum',\n",
    "        'Cleaning fee': 'sum',\n",
    "        'Pet fee': 'sum',\n",
    "        'Occupancy taxes': 'sum'\n",
    "    }).reset_index()\n",
    "\n",
    "    result[['Lead time', 'Nights']] = result[['Lead time', 'Nights']].astype(int)\n",
    "\n",
    "    month_order = ['January', 'February', 'March', \n",
    "                'April', 'May', 'June', 'July', \n",
    "                'August', 'September', 'October', \n",
    "                'November', 'December']\n",
    "    result['Month'] = pd.Categorical(result['Month'], categories=month_order, ordered=True)\n",
    "    result = result.sort_values(by=['Earnings year', 'Month'])\n",
    "\n",
    "    result['Avg nightly price'] = round((result['Gross earnings'] / result['Nights']),2)\n",
    "\n",
    "    result['Date'] = pd.to_datetime(result['Earnings year'].astype(str) + ' ' + result['Month'].astype(str), format='%Y %B')\n",
    "\n",
    "    return result"
   ]
  },
  {
   "cell_type": "code",
   "execution_count": 9,
   "metadata": {},
   "outputs": [],
   "source": [
    "result = monthly_kpis(df)"
   ]
  },
  {
   "cell_type": "code",
   "execution_count": null,
   "metadata": {},
   "outputs": [],
   "source": [
    "# Create new columns for month and year\n",
    "df['Month'] = df['Start date'].dt.strftime('%B')"
   ]
  },
  {
   "cell_type": "code",
   "execution_count": null,
   "metadata": {},
   "outputs": [],
   "source": [
    "df['Earnings year'] = df['Earnings year'].astype(int)"
   ]
  },
  {
   "cell_type": "code",
   "execution_count": null,
   "metadata": {},
   "outputs": [],
   "source": [
    "result = df.groupby(['Earnings year', 'Month']).agg({\n",
    "    'Nights': 'sum',\n",
    "    'Lead time': 'mean',\n",
    "    'Gross earnings': 'sum',\n",
    "    'Host service fee': 'sum',\n",
    "    'Cleaning fee': 'sum',\n",
    "    'Pet fee': 'sum',\n",
    "    'Occupancy taxes': 'sum'\n",
    "}).reset_index()\n",
    "\n",
    "result[['Lead time', 'Nights']] = result[['Lead time', 'Nights']].astype(int)\n"
   ]
  },
  {
   "cell_type": "code",
   "execution_count": null,
   "metadata": {},
   "outputs": [],
   "source": [
    "result"
   ]
  },
  {
   "cell_type": "code",
   "execution_count": null,
   "metadata": {},
   "outputs": [],
   "source": [
    "month_order = ['January', 'February', 'March', \n",
    "               'April', 'May', 'June', 'July', \n",
    "               'August', 'September', 'October', \n",
    "               'November', 'December']\n",
    "result['Month'] = pd.Categorical(result['Month'], categories=month_order, ordered=True)\n",
    "result = result.sort_values(by=['Earnings year', 'Month'])"
   ]
  },
  {
   "cell_type": "code",
   "execution_count": null,
   "metadata": {},
   "outputs": [],
   "source": [
    "result"
   ]
  },
  {
   "cell_type": "code",
   "execution_count": null,
   "metadata": {},
   "outputs": [],
   "source": [
    "result['Avg nightly price'] = round((result['Gross earnings'] / result['Nights']),2)"
   ]
  },
  {
   "cell_type": "code",
   "execution_count": null,
   "metadata": {},
   "outputs": [],
   "source": [
    "result['Date'] = pd.to_datetime(result['Earnings year'].astype(str) + ' ' + result['Month'].astype(str), format='%Y %B')"
   ]
  },
  {
   "cell_type": "code",
   "execution_count": null,
   "metadata": {},
   "outputs": [],
   "source": [
    "result"
   ]
  },
  {
   "cell_type": "code",
   "execution_count": null,
   "metadata": {},
   "outputs": [],
   "source": [
    "lead_time_fig = px.line(result, x='Date', y='Lead time', title='Lead Time')"
   ]
  },
  {
   "cell_type": "code",
   "execution_count": null,
   "metadata": {},
   "outputs": [],
   "source": [
    "lead_time_fig"
   ]
  },
  {
   "cell_type": "code",
   "execution_count": null,
   "metadata": {},
   "outputs": [],
   "source": [
    "gross_earnings_fig = px.line(result, x='Date', y='Gross earnings', title='Gross Earnings')"
   ]
  },
  {
   "cell_type": "code",
   "execution_count": null,
   "metadata": {},
   "outputs": [],
   "source": [
    "gross_earnings_fig"
   ]
  },
  {
   "cell_type": "code",
   "execution_count": null,
   "metadata": {},
   "outputs": [],
   "source": [
    "booked_nights_fig = px.line(result, x='Date', y='Nights', title='Booked Nights')"
   ]
  },
  {
   "cell_type": "code",
   "execution_count": null,
   "metadata": {},
   "outputs": [],
   "source": [
    "booked_nights_fig"
   ]
  },
  {
   "cell_type": "code",
   "execution_count": null,
   "metadata": {},
   "outputs": [],
   "source": [
    "avg_nightly_price_fig = px.line(result, x='Date', y='Avg nightly price', title='Average Nightly Price')"
   ]
  },
  {
   "cell_type": "code",
   "execution_count": null,
   "metadata": {},
   "outputs": [],
   "source": [
    "avg_nightly_price_fig"
   ]
  },
  {
   "cell_type": "code",
   "execution_count": null,
   "metadata": {},
   "outputs": [],
   "source": []
  }
 ],
 "metadata": {
  "kernelspec": {
   "display_name": "str_venv",
   "language": "python",
   "name": "python3"
  },
  "language_info": {
   "codemirror_mode": {
    "name": "ipython",
    "version": 3
   },
   "file_extension": ".py",
   "mimetype": "text/x-python",
   "name": "python",
   "nbconvert_exporter": "python",
   "pygments_lexer": "ipython3",
   "version": "3.12.2"
  }
 },
 "nbformat": 4,
 "nbformat_minor": 2
}
